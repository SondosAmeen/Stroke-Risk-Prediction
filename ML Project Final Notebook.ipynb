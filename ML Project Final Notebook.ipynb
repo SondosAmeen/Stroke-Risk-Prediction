{
 "cells": [
  {
   "cell_type": "markdown",
   "id": "e7b22d33",
   "metadata": {},
   "source": [
    "## Data Exploration and Preprocessing"
   ]
  },
  {
   "cell_type": "code",
   "execution_count": 81,
   "id": "1e754ef8",
   "metadata": {
    "collapsed": true
   },
   "outputs": [
    {
     "name": "stdout",
     "output_type": "stream",
     "text": [
      "Requirement already satisfied: scikit-learn in c:\\users\\20106\\anaconda3\\lib\\site-packages (1.5.0)\n",
      "Requirement already satisfied: numpy>=1.19.5 in c:\\users\\20106\\anaconda3\\lib\\site-packages (from scikit-learn) (1.24.3)\n",
      "Requirement already satisfied: scipy>=1.6.0 in c:\\users\\20106\\anaconda3\\lib\\site-packages (from scikit-learn) (1.11.1)\n",
      "Requirement already satisfied: joblib>=1.2.0 in c:\\users\\20106\\anaconda3\\lib\\site-packages (from scikit-learn) (1.2.0)\n",
      "Requirement already satisfied: threadpoolctl>=3.1.0 in c:\\users\\20106\\anaconda3\\lib\\site-packages (from scikit-learn) (3.5.0)\n",
      "Note: you may need to restart the kernel to use updated packages.\n"
     ]
    }
   ],
   "source": [
    "# Upgrade scikit-learn version.\n",
    "pip install --upgrade scikit-learn --user"
   ]
  },
  {
   "cell_type": "code",
   "execution_count": 1,
   "id": "6ff2b4ef",
   "metadata": {},
   "outputs": [],
   "source": [
    "# Import necessary Libraries.\n",
    "import numpy as np\n",
    "import pandas as pd\n",
    "import seaborn as sns\n",
    "import matplotlib.pyplot as plt\n",
    "import time\n",
    "import warnings\n",
    "warnings.filterwarnings(\"ignore\")\n",
    "\n",
    "from sklearn.preprocessing import LabelEncoder\n",
    "from sklearn.preprocessing import StandardScaler\n",
    "from sklearn.model_selection import train_test_split\n",
    "from sklearn.linear_model import LogisticRegression\n",
    "from sklearn.linear_model import LogisticRegressionCV\n",
    "from sklearn.metrics import accuracy_score, confusion_matrix, classification_report\n",
    "from sklearn.metrics import ConfusionMatrixDisplay\n",
    "from sklearn.metrics import precision_recall_curve, roc_curve\n",
    "from sklearn.model_selection import GridSearchCV\n",
    "from sklearn.model_selection import cross_val_score\n",
    "from sklearn.ensemble import RandomForestClassifier\n",
    "from sklearn.svm import SVC\n",
    "from sklearn.neighbors import KNeighborsClassifier\n",
    "from sklearn.naive_bayes import GaussianNB\n",
    "from xgboost import XGBClassifier\n",
    "from sklearn.ensemble import AdaBoostClassifier\n",
    "from sklearn.ensemble import GradientBoostingClassifier\n",
    "from sklearn.tree import DecisionTreeClassifier\n",
    "from imblearn.over_sampling import SMOTE"
   ]
  },
  {
   "cell_type": "code",
   "execution_count": 2,
   "id": "cd64c923",
   "metadata": {
    "collapsed": true
   },
   "outputs": [
    {
     "name": "stdout",
     "output_type": "stream",
     "text": [
      "      id  gender   age  hypertension  heart_disease ever_married  \\\n",
      "0  30669    Male   3.0             0              0           No   \n",
      "1  30468    Male  58.0             1              0          Yes   \n",
      "2  16523  Female   8.0             0              0           No   \n",
      "3  56543  Female  70.0             0              0          Yes   \n",
      "4  46136    Male  14.0             0              0           No   \n",
      "\n",
      "      work_type Residence_type  avg_glucose_level   bmi   smoking_status  \\\n",
      "0      children          Rural              95.12  18.0              NaN   \n",
      "1       Private          Urban              87.96  39.2     never smoked   \n",
      "2       Private          Urban             110.89  17.6              NaN   \n",
      "3       Private          Rural              69.04  35.9  formerly smoked   \n",
      "4  Never_worked          Rural             161.28  19.1              NaN   \n",
      "\n",
      "   stroke  \n",
      "0       0  \n",
      "1       0  \n",
      "2       0  \n",
      "3       0  \n",
      "4       0  \n"
     ]
    }
   ],
   "source": [
    "# Load the dataset.\n",
    "dataset = pd.read_csv(r\"C:\\Users\\20106\\Downloads\\Machine Learning\\Strokesdataset.csv\")\n",
    "print (dataset.head())"
   ]
  },
  {
   "cell_type": "code",
   "execution_count": 3,
   "id": "ce423c1e",
   "metadata": {
    "collapsed": true
   },
   "outputs": [
    {
     "name": "stdout",
     "output_type": "stream",
     "text": [
      "<class 'pandas.core.frame.DataFrame'>\n",
      "RangeIndex: 43400 entries, 0 to 43399\n",
      "Data columns (total 12 columns):\n",
      " #   Column             Non-Null Count  Dtype  \n",
      "---  ------             --------------  -----  \n",
      " 0   id                 43400 non-null  int64  \n",
      " 1   gender             43400 non-null  object \n",
      " 2   age                43400 non-null  float64\n",
      " 3   hypertension       43400 non-null  int64  \n",
      " 4   heart_disease      43400 non-null  int64  \n",
      " 5   ever_married       43400 non-null  object \n",
      " 6   work_type          43400 non-null  object \n",
      " 7   Residence_type     43400 non-null  object \n",
      " 8   avg_glucose_level  43400 non-null  float64\n",
      " 9   bmi                41938 non-null  float64\n",
      " 10  smoking_status     30108 non-null  object \n",
      " 11  stroke             43400 non-null  int64  \n",
      "dtypes: float64(3), int64(4), object(5)\n",
      "memory usage: 4.0+ MB\n"
     ]
    }
   ],
   "source": [
    "# Gather info such as number of null values and data types for each column in the dataset.\n",
    "dataset.info()"
   ]
  },
  {
   "cell_type": "code",
   "execution_count": 4,
   "id": "f2cb3296",
   "metadata": {
    "collapsed": true
   },
   "outputs": [
    {
     "data": {
      "text/plain": [
       "(43400, 12)"
      ]
     },
     "execution_count": 4,
     "metadata": {},
     "output_type": "execute_result"
    }
   ],
   "source": [
    "# Print the shape of the dataset.\n",
    "dataset.shape"
   ]
  },
  {
   "cell_type": "code",
   "execution_count": 5,
   "id": "2463ee10",
   "metadata": {
    "collapsed": true
   },
   "outputs": [
    {
     "data": {
      "text/plain": [
       "id                       0\n",
       "gender                   0\n",
       "age                      0\n",
       "hypertension             0\n",
       "heart_disease            0\n",
       "ever_married             0\n",
       "work_type                0\n",
       "Residence_type           0\n",
       "avg_glucose_level        0\n",
       "bmi                   1462\n",
       "smoking_status       13292\n",
       "stroke                   0\n",
       "dtype: int64"
      ]
     },
     "execution_count": 5,
     "metadata": {},
     "output_type": "execute_result"
    }
   ],
   "source": [
    "# Look for null values.\n",
    "dataset.isna().sum()"
   ]
  },
  {
   "cell_type": "code",
   "execution_count": 6,
   "id": "99b3e91d",
   "metadata": {
    "collapsed": true
   },
   "outputs": [
    {
     "name": "stdout",
     "output_type": "stream",
     "text": [
      "Missing values:  0\n"
     ]
    }
   ],
   "source": [
    "# Drop missing values from the dataset.\n",
    "dataset.dropna(inplace=True)\n",
    "print('Missing values: ',sum(dataset.isnull().sum()))"
   ]
  },
  {
   "cell_type": "code",
   "execution_count": 7,
   "id": "5be75728",
   "metadata": {
    "collapsed": true
   },
   "outputs": [
    {
     "data": {
      "text/plain": [
       "(29072, 12)"
      ]
     },
     "execution_count": 7,
     "metadata": {},
     "output_type": "execute_result"
    }
   ],
   "source": [
    "# Print the shape of the dataset.\n",
    "dataset.shape"
   ]
  },
  {
   "cell_type": "code",
   "execution_count": 8,
   "id": "df6b0da9",
   "metadata": {
    "collapsed": true
   },
   "outputs": [
    {
     "name": "stdout",
     "output_type": "stream",
     "text": [
      "False\n"
     ]
    }
   ],
   "source": [
    "# Look for duplicate values using the column \"id\".\n",
    "# There are no dupicates in the daatset.\n",
    "duplicates = dataset[\"id\"].duplicated().any()\n",
    "print (duplicates)"
   ]
  },
  {
   "cell_type": "code",
   "execution_count": 9,
   "id": "6e2edab0",
   "metadata": {
    "collapsed": true
   },
   "outputs": [
    {
     "name": "stdout",
     "output_type": "stream",
     "text": [
      "<bound method NDFrame.head of        gender   age  hypertension  heart_disease ever_married      work_type  \\\n",
      "1        Male  58.0             1              0          Yes        Private   \n",
      "3      Female  70.0             0              0          Yes        Private   \n",
      "6      Female  52.0             0              0          Yes        Private   \n",
      "7      Female  75.0             0              1          Yes  Self-employed   \n",
      "8      Female  32.0             0              0          Yes        Private   \n",
      "...       ...   ...           ...            ...          ...            ...   \n",
      "43395  Female  10.0             0              0           No       children   \n",
      "43396  Female  56.0             0              0          Yes       Govt_job   \n",
      "43397  Female  82.0             1              0          Yes        Private   \n",
      "43398    Male  40.0             0              0          Yes        Private   \n",
      "43399  Female  82.0             0              0          Yes        Private   \n",
      "\n",
      "      Residence_type  avg_glucose_level   bmi   smoking_status  stroke  \n",
      "1              Urban              87.96  39.2     never smoked       0  \n",
      "3              Rural              69.04  35.9  formerly smoked       0  \n",
      "6              Urban              77.59  17.7  formerly smoked       0  \n",
      "7              Rural             243.53  27.0     never smoked       0  \n",
      "8              Rural              77.67  32.3           smokes       0  \n",
      "...              ...                ...   ...              ...     ...  \n",
      "43395          Urban              58.64  20.4     never smoked       0  \n",
      "43396          Urban             213.61  55.4  formerly smoked       0  \n",
      "43397          Urban              91.94  28.9  formerly smoked       0  \n",
      "43398          Urban              99.16  33.2     never smoked       0  \n",
      "43399          Urban              79.48  20.6     never smoked       0  \n",
      "\n",
      "[29072 rows x 11 columns]>\n"
     ]
    }
   ],
   "source": [
    "# We can now drop the column \"id\" since it is no longer neccessary.\n",
    "dataset_new = dataset.drop([\"id\"], axis = 1)\n",
    "print (dataset_new.head)"
   ]
  },
  {
   "cell_type": "code",
   "execution_count": 10,
   "id": "347b0b37",
   "metadata": {
    "collapsed": true
   },
   "outputs": [
    {
     "data": {
      "text/plain": [
       "(29072, 11)"
      ]
     },
     "execution_count": 10,
     "metadata": {},
     "output_type": "execute_result"
    }
   ],
   "source": [
    "# Print the shape of the dataset.\n",
    "dataset_new.shape"
   ]
  },
  {
   "cell_type": "code",
   "execution_count": 11,
   "id": "493c3575",
   "metadata": {
    "collapsed": true
   },
   "outputs": [
    {
     "name": "stdout",
     "output_type": "stream",
     "text": [
      "        gender           age  hypertension  heart_disease ever_married  \\\n",
      "count    29072  29072.000000  29072.000000   29072.000000        29072   \n",
      "unique       3           NaN           NaN            NaN            2   \n",
      "top     Female           NaN           NaN            NaN          Yes   \n",
      "freq     17852           NaN           NaN            NaN        21690   \n",
      "mean       NaN     47.671746      0.111482       0.052146          NaN   \n",
      "std        NaN     18.734490      0.314733       0.222326          NaN   \n",
      "min        NaN     10.000000      0.000000       0.000000          NaN   \n",
      "25%        NaN     32.000000      0.000000       0.000000          NaN   \n",
      "50%        NaN     48.000000      0.000000       0.000000          NaN   \n",
      "75%        NaN     62.000000      0.000000       0.000000          NaN   \n",
      "max        NaN     82.000000      1.000000       1.000000          NaN   \n",
      "\n",
      "       work_type Residence_type  avg_glucose_level           bmi  \\\n",
      "count      29072          29072       29072.000000  29072.000000   \n",
      "unique         5              2                NaN           NaN   \n",
      "top      Private          Urban                NaN           NaN   \n",
      "freq       18954          14595                NaN           NaN   \n",
      "mean         NaN            NaN         106.403225     30.054166   \n",
      "std          NaN            NaN          45.268512      7.193908   \n",
      "min          NaN            NaN          55.010000     10.100000   \n",
      "25%          NaN            NaN          77.627500     25.000000   \n",
      "50%          NaN            NaN          92.130000     28.900000   \n",
      "75%          NaN            NaN         113.910000     33.900000   \n",
      "max          NaN            NaN         291.050000     92.000000   \n",
      "\n",
      "       smoking_status        stroke  \n",
      "count           29072  29072.000000  \n",
      "unique              3           NaN  \n",
      "top      never smoked           NaN  \n",
      "freq            15747           NaN  \n",
      "mean              NaN      0.018850  \n",
      "std               NaN      0.135997  \n",
      "min               NaN      0.000000  \n",
      "25%               NaN      0.000000  \n",
      "50%               NaN      0.000000  \n",
      "75%               NaN      0.000000  \n",
      "max               NaN      1.000000  \n"
     ]
    }
   ],
   "source": [
    "# Explore the dataset characteristics such as mean, median and standard deviation (EDA).\n",
    "print(dataset_new.describe(include=\"all\"))"
   ]
  },
  {
   "cell_type": "markdown",
   "id": "cd0e11d3",
   "metadata": {},
   "source": [
    "### Data Visualization (EDA)"
   ]
  },
  {
   "cell_type": "code",
   "execution_count": 12,
   "id": "bcbf5acf",
   "metadata": {
    "collapsed": true
   },
   "outputs": [
    {
     "name": "stdout",
     "output_type": "stream",
     "text": [
      "stroke:  548\n",
      "no_stroke:  28524\n"
     ]
    },
    {
     "data": {
      "image/png": "[encoded data removed]",
      "text/plain": [
       "<Figure size 640x480 with 1 Axes>"
      ]
     },
     "metadata": {},
     "output_type": "display_data"
    }
   ],
   "source": [
    "# Count plot for the number of each case (stroke, no stroke).\n",
    "# The plot shows that the data is extremely imbalanced.\n",
    "st_plot = dataset_new[\"stroke\"].value_counts().plot(kind = \"bar\", color = [\"steelblue\",\"lawngreen\"], rot = 0)\n",
    "plt.xticks(ticks = [1,0], labels = [\"stroke\", \"no_stroke\"]);\n",
    "print('stroke: ', sum(dataset_new['stroke'] == 1))\n",
    "print('no_stroke: ', sum(dataset_new['stroke'] == 0))"
   ]
  },
  {
   "cell_type": "code",
   "execution_count": 13,
   "id": "a12ce705",
   "metadata": {
    "collapsed": true
   },
   "outputs": [
    {
     "data": {
      "image/png": "[encoded data removed]",
      "text/plain": [
       "<Figure size 640x480 with 1 Axes>"
      ]
     },
     "metadata": {},
     "output_type": "display_data"
    }
   ],
   "source": [
    "# Gender distribution plot.\n",
    "plt.title('Gender Distribution')\n",
    "sns.countplot(x = dataset_new['gender']);"
   ]
  },
  {
   "cell_type": "code",
   "execution_count": 14,
   "id": "01fe0dbd",
   "metadata": {
    "collapsed": true
   },
   "outputs": [
    {
     "data": {
      "text/plain": [
       "7"
      ]
     },
     "execution_count": 14,
     "metadata": {},
     "output_type": "execute_result"
    }
   ],
   "source": [
    "# Number of people with unidentified genders \"other\".\n",
    "(dataset_new['gender'] == 'Other').sum()"
   ]
  },
  {
   "cell_type": "code",
   "execution_count": 15,
   "id": "c269cdcc",
   "metadata": {},
   "outputs": [],
   "source": [
    "# Drop unidentified genders.\n",
    "dataset_new.drop(dataset_new[dataset_new['gender'] == 'Other'].index, axis = 0, inplace = True)"
   ]
  },
  {
   "cell_type": "code",
   "execution_count": 16,
   "id": "ba477d3d",
   "metadata": {
    "collapsed": true
   },
   "outputs": [
    {
     "data": {
      "image/png": "[encoded data removed]",
      "text/plain": [
       "<Figure size 640x480 with 1 Axes>"
      ]
     },
     "metadata": {},
     "output_type": "display_data"
    }
   ],
   "source": [
    "# Work type distribution plot.\n",
    "plt.title('Work Type Distribution')\n",
    "sns.countplot(x = dataset_new['work_type']);"
   ]
  },
  {
   "cell_type": "code",
   "execution_count": 17,
   "id": "1f4086c3",
   "metadata": {
    "collapsed": true
   },
   "outputs": [
    {
     "data": {
      "image/png": "[encoded data removed]",
      "text/plain": [
       "<Figure size 800x500 with 2 Axes>"
      ]
     },
     "metadata": {},
     "output_type": "display_data"
    }
   ],
   "source": [
    "# Plot a pie chart for the number of stroke and no stroke cases across different genders.\n",
    "fig, (pt1, pt2) = plt.subplots(1, 2, figsize=(8, 5))\n",
    "\n",
    "pt1.pie(dataset_new[dataset_new['stroke'] == 1]['gender'].value_counts(), \n",
    "        labels=dataset_new[dataset_new['stroke'] == 1]['gender'].unique(), \n",
    "        autopct=\"%1.1f%%\")\n",
    "plt.suptitle('Strokes vs No Stoke Across Different Genders', fontsize=14, y=1.02)\n",
    "\n",
    "pt2.pie(dataset_new[dataset_new['stroke'] == 0]['gender'].value_counts(), \n",
    "        labels=dataset_new[dataset_new['stroke'] == 0]['gender'].unique(), \n",
    "        autopct=\"%1.1f%%\")  \n",
    "\n",
    "plt.show()"
   ]
  },
  {
   "cell_type": "code",
   "execution_count": 18,
   "id": "f3fc36c4",
   "metadata": {
    "collapsed": true
   },
   "outputs": [
    {
     "name": "stdout",
     "output_type": "stream",
     "text": [
      "Heart Disease:  1516\n",
      "No Heart Disease:  27549\n"
     ]
    },
    {
     "data": {
      "image/png": "[encoded data removed]",
      "text/plain": [
       "<Figure size 640x480 with 1 Axes>"
      ]
     },
     "metadata": {},
     "output_type": "display_data"
    }
   ],
   "source": [
    "# Count plot for the number of heart disease cases.\n",
    "st_plot = dataset_new[\"heart_disease\"].value_counts().plot(kind = \"bar\", color = [\"steelblue\",\"lawngreen\"], rot = 0)\n",
    "plt.xticks(ticks = [1,0], labels = [\"Heart Disease\", \"No Heart Disease\"]);\n",
    "print('Heart Disease: ', sum(dataset_new['heart_disease'] == 1))\n",
    "print('No Heart Disease: ', sum(dataset_new['heart_disease'] == 0))"
   ]
  },
  {
   "cell_type": "code",
   "execution_count": 19,
   "id": "5fa43655",
   "metadata": {
    "collapsed": true
   },
   "outputs": [
    {
     "data": {
      "image/png": "[encoded data removed]",
      "text/plain": [
       "<Figure size 640x480 with 1 Axes>"
      ]
     },
     "metadata": {},
     "output_type": "display_data"
    }
   ],
   "source": [
    "# Count plot for the smoking status\n",
    "plt.title('Smoking Status Distribution')\n",
    "sns.countplot(x = dataset_new['smoking_status']);"
   ]
  },
  {
   "cell_type": "markdown",
   "id": "a3401b40",
   "metadata": {},
   "source": [
    "## Feature Engineering"
   ]
  },
  {
   "cell_type": "code",
   "execution_count": 20,
   "id": "3f670ddd",
   "metadata": {},
   "outputs": [],
   "source": [
    "# Encode categorical values using label encoding. \n",
    "\n",
    "le = LabelEncoder()\n",
    "dataset_new['gender'] = le.fit_transform(dataset_new['gender'])\n",
    "dataset_new['ever_married'] = le.fit_transform(dataset_new['ever_married'])\n",
    "dataset_new['work_type'] = le.fit_transform(dataset_new['work_type'])\n",
    "dataset_new['Residence_type']= le.fit_transform(dataset_new['Residence_type'])\n",
    "dataset_new['smoking_status'] = le.fit_transform(dataset_new['smoking_status'])"
   ]
  },
  {
   "cell_type": "code",
   "execution_count": 22,
   "id": "c32f5f59",
   "metadata": {
    "collapsed": true
   },
   "outputs": [
    {
     "name": "stdout",
     "output_type": "stream",
     "text": [
      "            gender           age  hypertension  heart_disease  ever_married  \\\n",
      "count  29065.00000  29065.000000  29065.000000   29065.000000  29065.000000   \n",
      "mean       0.38579     47.676174      0.111509       0.052159      0.746155   \n",
      "std        0.48679     18.732941      0.314766       0.222351      0.435217   \n",
      "min        0.00000     10.000000      0.000000       0.000000      0.000000   \n",
      "25%        0.00000     32.000000      0.000000       0.000000      0.000000   \n",
      "50%        0.00000     48.000000      0.000000       0.000000      1.000000   \n",
      "75%        1.00000     62.000000      0.000000       0.000000      1.000000   \n",
      "max        1.00000     82.000000      1.000000       1.000000      1.000000   \n",
      "\n",
      "          work_type  Residence_type  avg_glucose_level           bmi  \\\n",
      "count  29065.000000    29065.000000       29065.000000  29065.000000   \n",
      "mean       1.929228        0.502047         106.405639     30.054684   \n",
      "std        0.916246        0.500004          45.272453      7.193951   \n",
      "min        0.000000        0.000000          55.010000     10.100000   \n",
      "25%        2.000000        0.000000          77.630000     25.000000   \n",
      "50%        2.000000        1.000000          92.130000     28.900000   \n",
      "75%        2.000000        1.000000         113.910000     33.900000   \n",
      "max        4.000000        1.000000         291.050000     92.000000   \n",
      "\n",
      "       smoking_status        stroke  \n",
      "count    29065.000000  29065.000000  \n",
      "mean         0.970170      0.018854  \n",
      "std          0.676295      0.136013  \n",
      "min          0.000000      0.000000  \n",
      "25%          1.000000      0.000000  \n",
      "50%          1.000000      0.000000  \n",
      "75%          1.000000      0.000000  \n",
      "max          2.000000      1.000000  \n"
     ]
    }
   ],
   "source": [
    "print(dataset_new.describe(include=\"all\"))"
   ]
  },
  {
   "cell_type": "code",
   "execution_count": 23,
   "id": "4d6862f2",
   "metadata": {},
   "outputs": [],
   "source": [
    "# Scaling the now numrical columns except the \"stroke\" one.\n",
    "scaler = StandardScaler()\n",
    "columns_to_scale = dataset_new.columns[dataset_new.columns != \"stroke\"]\n",
    "dataset_new[columns_to_scale] = scaler.fit_transform(dataset_new[columns_to_scale])"
   ]
  },
  {
   "cell_type": "code",
   "execution_count": 24,
   "id": "62f6f275",
   "metadata": {
    "collapsed": true
   },
   "outputs": [
    {
     "data": {
      "text/html": [
       "<div>\n",
       "<style scoped>\n",
       "    .dataframe tbody tr th:only-of-type {\n",
       "        vertical-align: middle;\n",
       "    }\n",
       "\n",
       "    .dataframe tbody tr th {\n",
       "        vertical-align: top;\n",
       "    }\n",
       "\n",
       "    .dataframe thead th {\n",
       "        text-align: right;\n",
       "    }\n",
       "</style>\n",
       "<table border=\"1\" class=\"dataframe\">\n",
       "  <thead>\n",
       "    <tr style=\"text-align: right;\">\n",
       "      <th></th>\n",
       "      <th>gender</th>\n",
       "      <th>age</th>\n",
       "      <th>hypertension</th>\n",
       "      <th>heart_disease</th>\n",
       "      <th>ever_married</th>\n",
       "      <th>work_type</th>\n",
       "      <th>Residence_type</th>\n",
       "      <th>avg_glucose_level</th>\n",
       "      <th>bmi</th>\n",
       "      <th>smoking_status</th>\n",
       "      <th>stroke</th>\n",
       "    </tr>\n",
       "  </thead>\n",
       "  <tbody>\n",
       "    <tr>\n",
       "      <th>1</th>\n",
       "      <td>1.261777</td>\n",
       "      <td>0.551115</td>\n",
       "      <td>2.822749</td>\n",
       "      <td>-0.234583</td>\n",
       "      <td>0.583270</td>\n",
       "      <td>0.077243</td>\n",
       "      <td>0.995914</td>\n",
       "      <td>-0.407443</td>\n",
       "      <td>1.271273</td>\n",
       "      <td>0.044108</td>\n",
       "      <td>0</td>\n",
       "    </tr>\n",
       "    <tr>\n",
       "      <th>3</th>\n",
       "      <td>-0.792533</td>\n",
       "      <td>1.191709</td>\n",
       "      <td>-0.354265</td>\n",
       "      <td>-0.234583</td>\n",
       "      <td>0.583270</td>\n",
       "      <td>0.077243</td>\n",
       "      <td>-1.004103</td>\n",
       "      <td>-0.825365</td>\n",
       "      <td>0.812546</td>\n",
       "      <td>-1.434562</td>\n",
       "      <td>0</td>\n",
       "    </tr>\n",
       "    <tr>\n",
       "      <th>6</th>\n",
       "      <td>-0.792533</td>\n",
       "      <td>0.230818</td>\n",
       "      <td>-0.354265</td>\n",
       "      <td>-0.234583</td>\n",
       "      <td>0.583270</td>\n",
       "      <td>0.077243</td>\n",
       "      <td>0.995914</td>\n",
       "      <td>-0.636505</td>\n",
       "      <td>-1.717401</td>\n",
       "      <td>-1.434562</td>\n",
       "      <td>0</td>\n",
       "    </tr>\n",
       "    <tr>\n",
       "      <th>7</th>\n",
       "      <td>-0.792533</td>\n",
       "      <td>1.458623</td>\n",
       "      <td>-0.354265</td>\n",
       "      <td>4.262882</td>\n",
       "      <td>0.583270</td>\n",
       "      <td>1.168672</td>\n",
       "      <td>-1.004103</td>\n",
       "      <td>3.028922</td>\n",
       "      <td>-0.424626</td>\n",
       "      <td>0.044108</td>\n",
       "      <td>0</td>\n",
       "    </tr>\n",
       "    <tr>\n",
       "      <th>8</th>\n",
       "      <td>-0.792533</td>\n",
       "      <td>-0.836838</td>\n",
       "      <td>-0.354265</td>\n",
       "      <td>-0.234583</td>\n",
       "      <td>0.583270</td>\n",
       "      <td>0.077243</td>\n",
       "      <td>-1.004103</td>\n",
       "      <td>-0.634738</td>\n",
       "      <td>0.312117</td>\n",
       "      <td>1.522779</td>\n",
       "      <td>0</td>\n",
       "    </tr>\n",
       "    <tr>\n",
       "      <th>...</th>\n",
       "      <td>...</td>\n",
       "      <td>...</td>\n",
       "      <td>...</td>\n",
       "      <td>...</td>\n",
       "      <td>...</td>\n",
       "      <td>...</td>\n",
       "      <td>...</td>\n",
       "      <td>...</td>\n",
       "      <td>...</td>\n",
       "      <td>...</td>\n",
       "      <td>...</td>\n",
       "    </tr>\n",
       "    <tr>\n",
       "      <th>43395</th>\n",
       "      <td>-0.792533</td>\n",
       "      <td>-2.011260</td>\n",
       "      <td>-0.354265</td>\n",
       "      <td>-0.234583</td>\n",
       "      <td>-1.714472</td>\n",
       "      <td>2.260101</td>\n",
       "      <td>0.995914</td>\n",
       "      <td>-1.055089</td>\n",
       "      <td>-1.342079</td>\n",
       "      <td>0.044108</td>\n",
       "      <td>0</td>\n",
       "    </tr>\n",
       "    <tr>\n",
       "      <th>43396</th>\n",
       "      <td>-0.792533</td>\n",
       "      <td>0.444349</td>\n",
       "      <td>-0.354265</td>\n",
       "      <td>-0.234583</td>\n",
       "      <td>0.583270</td>\n",
       "      <td>-2.105615</td>\n",
       "      <td>0.995914</td>\n",
       "      <td>2.368023</td>\n",
       "      <td>3.523203</td>\n",
       "      <td>-1.434562</td>\n",
       "      <td>0</td>\n",
       "    </tr>\n",
       "    <tr>\n",
       "      <th>43397</th>\n",
       "      <td>-0.792533</td>\n",
       "      <td>1.832303</td>\n",
       "      <td>2.822749</td>\n",
       "      <td>-0.234583</td>\n",
       "      <td>0.583270</td>\n",
       "      <td>0.077243</td>\n",
       "      <td>0.995914</td>\n",
       "      <td>-0.319530</td>\n",
       "      <td>-0.160510</td>\n",
       "      <td>-1.434562</td>\n",
       "      <td>0</td>\n",
       "    </tr>\n",
       "    <tr>\n",
       "      <th>43398</th>\n",
       "      <td>1.261777</td>\n",
       "      <td>-0.409776</td>\n",
       "      <td>-0.354265</td>\n",
       "      <td>-0.234583</td>\n",
       "      <td>0.583270</td>\n",
       "      <td>0.077243</td>\n",
       "      <td>0.995914</td>\n",
       "      <td>-0.160048</td>\n",
       "      <td>0.437224</td>\n",
       "      <td>0.044108</td>\n",
       "      <td>0</td>\n",
       "    </tr>\n",
       "    <tr>\n",
       "      <th>43399</th>\n",
       "      <td>-0.792533</td>\n",
       "      <td>1.832303</td>\n",
       "      <td>-0.354265</td>\n",
       "      <td>-0.234583</td>\n",
       "      <td>0.583270</td>\n",
       "      <td>0.077243</td>\n",
       "      <td>0.995914</td>\n",
       "      <td>-0.594757</td>\n",
       "      <td>-1.314277</td>\n",
       "      <td>0.044108</td>\n",
       "      <td>0</td>\n",
       "    </tr>\n",
       "  </tbody>\n",
       "</table>\n",
       "<p>29065 rows × 11 columns</p>\n",
       "</div>"
      ],
      "text/plain": [
       "         gender       age  hypertension  heart_disease  ever_married  \\\n",
       "1      1.261777  0.551115      2.822749      -0.234583      0.583270   \n",
       "3     -0.792533  1.191709     -0.354265      -0.234583      0.583270   \n",
       "6     -0.792533  0.230818     -0.354265      -0.234583      0.583270   \n",
       "7     -0.792533  1.458623     -0.354265       4.262882      0.583270   \n",
       "8     -0.792533 -0.836838     -0.354265      -0.234583      0.583270   \n",
       "...         ...       ...           ...            ...           ...   \n",
       "43395 -0.792533 -2.011260     -0.354265      -0.234583     -1.714472   \n",
       "43396 -0.792533  0.444349     -0.354265      -0.234583      0.583270   \n",
       "43397 -0.792533  1.832303      2.822749      -0.234583      0.583270   \n",
       "43398  1.261777 -0.409776     -0.354265      -0.234583      0.583270   \n",
       "43399 -0.792533  1.832303     -0.354265      -0.234583      0.583270   \n",
       "\n",
       "       work_type  Residence_type  avg_glucose_level       bmi  smoking_status  \\\n",
       "1       0.077243        0.995914          -0.407443  1.271273        0.044108   \n",
       "3       0.077243       -1.004103          -0.825365  0.812546       -1.434562   \n",
       "6       0.077243        0.995914          -0.636505 -1.717401       -1.434562   \n",
       "7       1.168672       -1.004103           3.028922 -0.424626        0.044108   \n",
       "8       0.077243       -1.004103          -0.634738  0.312117        1.522779   \n",
       "...          ...             ...                ...       ...             ...   \n",
       "43395   2.260101        0.995914          -1.055089 -1.342079        0.044108   \n",
       "43396  -2.105615        0.995914           2.368023  3.523203       -1.434562   \n",
       "43397   0.077243        0.995914          -0.319530 -0.160510       -1.434562   \n",
       "43398   0.077243        0.995914          -0.160048  0.437224        0.044108   \n",
       "43399   0.077243        0.995914          -0.594757 -1.314277        0.044108   \n",
       "\n",
       "       stroke  \n",
       "1           0  \n",
       "3           0  \n",
       "6           0  \n",
       "7           0  \n",
       "8           0  \n",
       "...       ...  \n",
       "43395       0  \n",
       "43396       0  \n",
       "43397       0  \n",
       "43398       0  \n",
       "43399       0  \n",
       "\n",
       "[29065 rows x 11 columns]"
      ]
     },
     "execution_count": 24,
     "metadata": {},
     "output_type": "execute_result"
    }
   ],
   "source": [
    "dataset_new"
   ]
  },
  {
   "cell_type": "markdown",
   "id": "cbd1ea69",
   "metadata": {},
   "source": [
    "### Outliers Detection"
   ]
  },
  {
   "cell_type": "code",
   "execution_count": 25,
   "id": "5f6e6c24",
   "metadata": {
    "collapsed": true
   },
   "outputs": [
    {
     "data": {
      "image/png": "[encoded data removed]",
      "text/plain": [
       "<Figure size 1600x1000 with 1 Axes>"
      ]
     },
     "metadata": {},
     "output_type": "display_data"
    }
   ],
   "source": [
    "# Check for outliers in the dataset using box plot.\n",
    "# We can tell from the box plot that the dataset is full of outliers that we need to take care of.\n",
    "columns_to_plot = [\"age\", \"avg_glucose_level\", \"bmi\", \"ever_married\"]\n",
    "\n",
    "plt.figure(figsize=(16, 10))\n",
    "sns.boxplot(data=dataset_new[columns_to_plot])\n",
    "plt.xticks(rotation=90)\n",
    "plt.tight_layout()\n",
    "plt.show()"
   ]
  },
  {
   "cell_type": "code",
   "execution_count": 26,
   "id": "247e1c37",
   "metadata": {},
   "outputs": [],
   "source": [
    "# Handling outliers for all columns except \"stroke\"\n",
    "import numpy as np\n",
    "\n",
    "# Exclude the \"stroke\" column.\n",
    "exclude_column = 'stroke'\n",
    "\n",
    "# Select numerical columns except the one to exclude\n",
    "numerical_columns = dataset_new.select_dtypes(include=[\"float64\", \"int64\"]).columns\n",
    "columns_to_transform = [col for col in numerical_columns if col != exclude_column]\n",
    "\n",
    "\n",
    "def handle_outliers(col):\n",
    "    # Compute the IQR for the column\n",
    "    Q1 = dataset_new[col].quantile(0.25)\n",
    "    Q3 = dataset_new[col].quantile(0.75)\n",
    "    IQR = Q3 - Q1\n",
    "\n",
    "    # Define bounds for outliers\n",
    "    lower_bound = Q1 - 1.5 * IQR\n",
    "    upper_bound = Q3 + 1.5 * IQR\n",
    "\n",
    "    # Handle outliers by capping them at the bounds\n",
    "    dataset_new[col] = np.where(dataset_new[col] < lower_bound, lower_bound, dataset_new[col])\n",
    "    dataset_new[col] = np.where(dataset_new[col] > upper_bound, upper_bound, dataset_new[col])\n",
    "\n",
    "# Apply the function to each column in the list\n",
    "for col in columns_to_transform:\n",
    "    handle_outliers(col)\n"
   ]
  },
  {
   "cell_type": "code",
   "execution_count": 27,
   "id": "d89e46b7",
   "metadata": {
    "collapsed": true
   },
   "outputs": [
    {
     "data": {
      "image/png": "[encoded data removed]",
      "text/plain": [
       "<Figure size 1600x1000 with 1 Axes>"
      ]
     },
     "metadata": {},
     "output_type": "display_data"
    }
   ],
   "source": [
    "# Check for outliers in the dataset using box plot.\n",
    "# We can now see that the outliers have been dropped.\n",
    "columns_to_plot = [\"age\", \"avg_glucose_level\", \"bmi\", \"ever_married\"]\n",
    "\n",
    "plt.figure(figsize=(16, 10))\n",
    "sns.boxplot(data=dataset_new[columns_to_plot])\n",
    "plt.xticks(rotation=90)\n",
    "plt.tight_layout()\n",
    "plt.show()"
   ]
  },
  {
   "cell_type": "markdown",
   "id": "39f72064",
   "metadata": {},
   "source": [
    "## Model Development and Evaluation"
   ]
  },
  {
   "cell_type": "code",
   "execution_count": 28,
   "id": "7aff1565",
   "metadata": {},
   "outputs": [],
   "source": [
    "# Select features and target variables.\n",
    "x = dataset_new.drop([\"stroke\"],axis=1)\n",
    "y = dataset_new[[\"stroke\"]]"
   ]
  },
  {
   "cell_type": "code",
   "execution_count": 29,
   "id": "d3ff16a4",
   "metadata": {},
   "outputs": [],
   "source": [
    "# Perform over sampling to balance the data.\n",
    "smote = SMOTE(random_state = 42)\n",
    "x_smote, y_smote = smote.fit_resample(x, y)"
   ]
  },
  {
   "cell_type": "code",
   "execution_count": 30,
   "id": "b3f2cce1",
   "metadata": {
    "collapsed": true
   },
   "outputs": [
    {
     "name": "stdout",
     "output_type": "stream",
     "text": [
      "Logistic Regression Test Accuracy: 75.40112634151525 %\n",
      "              precision    recall  f1-score   support\n",
      "\n",
      "           0       0.77      0.72      0.74      9387\n",
      "           1       0.74      0.79      0.76      9435\n",
      "\n",
      "    accuracy                           0.75     18822\n",
      "   macro avg       0.76      0.75      0.75     18822\n",
      "weighted avg       0.76      0.75      0.75     18822\n",
      "\n",
      "Confusion matrix before hypertuning:\n",
      "\n",
      " [[6730 2657]\n",
      " [1973 7462]]\n"
     ]
    }
   ],
   "source": [
    "# Logistic Regression:\n",
    "\n",
    "# Split the dataset into train set and test set.\n",
    "x_train, x_test, y_train, y_test = train_test_split(x_smote, y_smote, test_size = 0.33, random_state = 42)\n",
    "\n",
    "# Standardize the features by scaling.\n",
    "scaler = StandardScaler()\n",
    "x_train_scaled = scaler.fit_transform(x_train)\n",
    "x_test_scaled = scaler.transform(x_test)\n",
    "\n",
    "# Create a logistic regression classifier.\n",
    "clf = LogisticRegression()\n",
    "\n",
    "# Train the Logistic Regression model on the training data.\n",
    "clf.fit(x_train_scaled, y_train)\n",
    "\n",
    "# Predict probabilities of each class for the test data.\n",
    "y_pred_probs = clf.predict_proba(x_test_scaled)\n",
    "\n",
    "# Predict class labels. \n",
    "y_pred_clf = np.argmax(y_pred_probs, axis=1)\n",
    "\n",
    "# Calculate and print the test accuracy score.\n",
    "test_accuracy = accuracy_score(y_test, y_pred_clf)\n",
    "print(\"Logistic Regression Test Accuracy:\", test_accuracy*100,\"%\")\n",
    " \n",
    "# Print the classification report for logistic regression classifier.\n",
    "print(classification_report(y_test, y_pred_clf))\n",
    "\n",
    "# Create a confusion matrix for the logistic regression classifier.\n",
    "cm = confusion_matrix(y_test, y_pred_clf)\n",
    "print('Confusion matrix before hypertuning:\\n\\n', cm)"
   ]
  },
  {
   "cell_type": "code",
   "execution_count": 31,
   "id": "a19e4ad9",
   "metadata": {
    "collapsed": true
   },
   "outputs": [
    {
     "name": "stdout",
     "output_type": "stream",
     "text": [
      "SVM Test Accuracy: 75.65614706194879 %\n",
      "              precision    recall  f1-score   support\n",
      "\n",
      "           0       0.78      0.71      0.74      9387\n",
      "           1       0.73      0.80      0.77      9435\n",
      "\n",
      "    accuracy                           0.76     18822\n",
      "   macro avg       0.76      0.76      0.76     18822\n",
      "weighted avg       0.76      0.76      0.76     18822\n",
      "\n",
      "Confusion matrix before hypertuning:\n",
      "\n",
      " [[6646 2741]\n",
      " [1841 7594]]\n"
     ]
    }
   ],
   "source": [
    "# Support Vector Machine (SVM):\n",
    "# Build and train the model.\n",
    "SVM = SVC(kernel=\"linear\")\n",
    "SVM.fit(x_train_scaled, y_train)\n",
    "\n",
    "# Make predictions.\n",
    "predictions = SVM.predict(x_test_scaled)\n",
    "\n",
    "# Calculate and print the test accuracy score.\n",
    "predictions = SVM.predict(x_test_scaled)\n",
    "print(\"SVM Test Accuracy:\", accuracy_score(y_test, predictions)*100,\"%\")\n",
    "\n",
    "# Print the classification report for SVM classifier.\n",
    "print(classification_report(y_test, predictions))\n",
    "\n",
    "# Create a confusion matrix for the SVM classifier.\n",
    "cm = confusion_matrix(y_test, predictions)\n",
    "print('Confusion matrix before hypertuning:\\n\\n', cm)"
   ]
  },
  {
   "cell_type": "code",
   "execution_count": 32,
   "id": "3ad48e19",
   "metadata": {
    "collapsed": true
   },
   "outputs": [
    {
     "name": "stdout",
     "output_type": "stream",
     "text": [
      "Random Forest Test Accuracy: 94.81989161619381 %\n",
      "              precision    recall  f1-score   support\n",
      "\n",
      "           0       0.96      0.93      0.95      9387\n",
      "           1       0.93      0.97      0.95      9435\n",
      "\n",
      "    accuracy                           0.95     18822\n",
      "   macro avg       0.95      0.95      0.95     18822\n",
      "weighted avg       0.95      0.95      0.95     18822\n",
      "\n",
      "Confusion matrix before hypertuning:\n",
      "\n",
      " [[8732  655]\n",
      " [ 320 9115]]\n"
     ]
    }
   ],
   "source": [
    "# Random Forest:\n",
    "# Create a Random Forest classifier.\n",
    "rfc = RandomForestClassifier(random_state=42)\n",
    "\n",
    "# Fit the model to the train set. \n",
    "rfc.fit(x_train_scaled, y_train)\n",
    "\n",
    "# Predict the Test set results.\n",
    "y_pred_rfc = rfc.predict(x_test_scaled)\n",
    "\n",
    "# Calculate and print the test accuracy score.\n",
    "print(\"Random Forest Test Accuracy:\",(accuracy_score(y_test, y_pred_rfc))*100,\"%\")\n",
    "\n",
    "# Print the classification report for Random Forest classifier.\n",
    "print(classification_report(y_test, y_pred_rfc))\n",
    "\n",
    "# Create a confusion matrix for the Random Forest classifier. \n",
    "cm = confusion_matrix(y_test, y_pred_rfc)\n",
    "print('Confusion matrix before hypertuning:\\n\\n', cm)"
   ]
  },
  {
   "cell_type": "code",
   "execution_count": 33,
   "id": "700c7084",
   "metadata": {
    "collapsed": true
   },
   "outputs": [
    {
     "name": "stdout",
     "output_type": "stream",
     "text": [
      "KNN Test Accuracy: 90.02231431303794 %\n",
      "              precision    recall  f1-score   support\n",
      "\n",
      "           0       0.97      0.83      0.89      9387\n",
      "           1       0.85      0.97      0.91      9435\n",
      "\n",
      "    accuracy                           0.90     18822\n",
      "   macro avg       0.91      0.90      0.90     18822\n",
      "weighted avg       0.91      0.90      0.90     18822\n",
      "\n",
      "Confusion matrix before hypertuning:\n",
      "\n",
      " [[7768 1619]\n",
      " [ 259 9176]]\n"
     ]
    }
   ],
   "source": [
    "# K Nearest Neighbour:\n",
    "# Create a KNN classifier.\n",
    "knn = KNeighborsClassifier(n_neighbors=5)\n",
    "\n",
    "# Fit the model to the training data.\n",
    "knn.fit(x_train_scaled, y_train)\n",
    "\n",
    "# Predict the Test set results.\n",
    "y_pred_knn = knn.predict(x_test_scaled)\n",
    "\n",
    "# Calculate and print the test accuracy score.\n",
    "print(\"KNN Test Accuracy:\", (accuracy_score(y_test, y_pred_knn)) * 100, \"%\")\n",
    "\n",
    "# Print the classification report for KNN classifier.\n",
    "print(classification_report(y_test, y_pred_knn))\n",
    "\n",
    "# Create a confusion matrix for the KNN classifier. \n",
    "cm = confusion_matrix(y_test, y_pred_knn)\n",
    "print('Confusion matrix before hypertuning:\\n\\n', cm)"
   ]
  },
  {
   "cell_type": "code",
   "execution_count": 34,
   "id": "99618abc",
   "metadata": {
    "collapsed": true
   },
   "outputs": [
    {
     "name": "stdout",
     "output_type": "stream",
     "text": [
      "Naive Bayes Test Accuracy: 72.29837424290724 %\n",
      "              precision    recall  f1-score   support\n",
      "\n",
      "           0       0.77      0.64      0.70      9387\n",
      "           1       0.69      0.81      0.74      9435\n",
      "\n",
      "    accuracy                           0.72     18822\n",
      "   macro avg       0.73      0.72      0.72     18822\n",
      "weighted avg       0.73      0.72      0.72     18822\n",
      "\n",
      "Confusion matrix before hypertuning:\n",
      "\n",
      " [[5999 3388]\n",
      " [1826 7609]]\n"
     ]
    }
   ],
   "source": [
    "# Naive Bayes:\n",
    "# Create a Naive Bayes classifier.\n",
    "nbc = GaussianNB()\n",
    "\n",
    "# Fit the model to the training data.\n",
    "nbc.fit(x_train_scaled, y_train)\n",
    "\n",
    "# Predict the Test set results.\n",
    "y_pred_nbc = nbc.predict(x_test_scaled)\n",
    "\n",
    "# Calculate and print the test accuracy score.\n",
    "print(\"Naive Bayes Test Accuracy:\", (accuracy_score(y_test, y_pred_nbc)) * 100, \"%\")\n",
    "\n",
    "# Print the classification report for Naive Bayes classifier.\n",
    "print(classification_report(y_test, y_pred_nbc))\n",
    "\n",
    "# Create a confusion matrix for the Naive Bayes classifier. \n",
    "cm = confusion_matrix(y_test, y_pred_nbc)\n",
    "print('Confusion matrix before hypertuning:\\n\\n', cm)"
   ]
  },
  {
   "cell_type": "code",
   "execution_count": 35,
   "id": "b0396677",
   "metadata": {
    "collapsed": true
   },
   "outputs": [
    {
     "name": "stdout",
     "output_type": "stream",
     "text": [
      "XGBoost Test Accuracy: 87.58899160556795 %\n",
      "              precision    recall  f1-score   support\n",
      "\n",
      "           0       0.87      0.88      0.88      9387\n",
      "           1       0.88      0.87      0.88      9435\n",
      "\n",
      "    accuracy                           0.88     18822\n",
      "   macro avg       0.88      0.88      0.88     18822\n",
      "weighted avg       0.88      0.88      0.88     18822\n",
      "\n",
      "Confusion matrix before hypertuning:\n",
      "\n",
      " [[8231 1156]\n",
      " [1180 8255]]\n"
     ]
    }
   ],
   "source": [
    "# XGBoost:\n",
    "# Create ana XGBoost clssifier.\n",
    "xgb = XGBClassifier(objective='binary:logistic', n_estimators=100, learning_rate=0.1, random_state=42)\n",
    "\n",
    "# Fit the model to the training data.\n",
    "xgb.fit(x_train_scaled, y_train)\n",
    "\n",
    "# Predict the Test set results.\n",
    "y_pred_xgb = xgb.predict(x_test_scaled)\n",
    "\n",
    "# Calculate and print the test accuracy score.\n",
    "print(\"XGBoost Test Accuracy:\", (accuracy_score(y_test, y_pred_xgb)) * 100, \"%\")\n",
    "\n",
    "# Print the classification report for XGBoost classifier.\n",
    "print(classification_report(y_test, y_pred_xgb))\n",
    "\n",
    "# Create a confusion matrix for the XGBoost classifier. \n",
    "cm = confusion_matrix(y_test, y_pred_xgb)\n",
    "print('Confusion matrix before hypertuning:\\n\\n', cm)"
   ]
  },
  {
   "cell_type": "code",
   "execution_count": 36,
   "id": "39e31a30",
   "metadata": {
    "collapsed": true
   },
   "outputs": [
    {
     "name": "stdout",
     "output_type": "stream",
     "text": [
      "AdaBoost Test Accuracy: 76.89406014238656 %\n",
      "              precision    recall  f1-score   support\n",
      "\n",
      "           0       0.81      0.70      0.75      9387\n",
      "           1       0.74      0.84      0.78      9435\n",
      "\n",
      "    accuracy                           0.77     18822\n",
      "   macro avg       0.77      0.77      0.77     18822\n",
      "weighted avg       0.77      0.77      0.77     18822\n",
      "\n",
      "Confusion matrix before hypertuning:\n",
      "\n",
      " [[6581 2806]\n",
      " [1543 7892]]\n"
     ]
    }
   ],
   "source": [
    "# AdaBoost:\n",
    "# Create an AdaBoost classifier.\n",
    "ada = AdaBoostClassifier(n_estimators=50, learning_rate=1, random_state=42)\n",
    "\n",
    "# Fit the model to the training data.\n",
    "ada.fit(x_train_scaled, y_train)\n",
    "\n",
    "# Predict the Test set results.\n",
    "y_pred_ada = ada.predict(x_test_scaled)\n",
    "\n",
    "# Calculate and print the test accuracy score.\n",
    "print(\"AdaBoost Test Accuracy:\", (accuracy_score(y_test, y_pred_ada)) * 100, \"%\")\n",
    "\n",
    "# Print the classification report for AdaBoost classifier.\n",
    "print(classification_report(y_test, y_pred_ada))\n",
    "\n",
    "# Create a confusion matrix for the AdaBoost classifier. \n",
    "cm = confusion_matrix(y_test, y_pred_ada)\n",
    "print('Confusion matrix before hypertuning:\\n\\n', cm)"
   ]
  },
  {
   "cell_type": "code",
   "execution_count": 37,
   "id": "e3c87232",
   "metadata": {
    "collapsed": true
   },
   "outputs": [
    {
     "name": "stdout",
     "output_type": "stream",
     "text": [
      "Gradient Boosting Test Accuracy: 82.63202635214111 %\n",
      "              precision    recall  f1-score   support\n",
      "\n",
      "           0       0.86      0.77      0.82      9387\n",
      "           1       0.80      0.88      0.84      9435\n",
      "\n",
      "    accuracy                           0.83     18822\n",
      "   macro avg       0.83      0.83      0.83     18822\n",
      "weighted avg       0.83      0.83      0.83     18822\n",
      "\n",
      "Confusion matrix before hypertuning:\n",
      "\n",
      " [[7267 2120]\n",
      " [1149 8286]]\n"
     ]
    }
   ],
   "source": [
    "# Gradient Boost:\n",
    "# Create a Gradient Boost classifier.\n",
    "gbc = GradientBoostingClassifier(n_estimators=100, learning_rate=0.1, random_state=42)\n",
    "\n",
    "# Fit the model to the training data.\n",
    "gbc.fit(x_train_scaled, y_train)\n",
    "\n",
    "# Predict the Test set results.\n",
    "y_pred_gbc = gbc.predict(x_test_scaled)\n",
    "\n",
    "# Calculate and print the test accuracy score.\n",
    "print(\"Gradient Boosting Test Accuracy:\", (accuracy_score(y_test, y_pred_gbc)) * 100, \"%\")\n",
    "\n",
    "# Print the classification report for Gradient Boost classifier.\n",
    "print(classification_report(y_test, y_pred_gbc))\n",
    "\n",
    "# Create a confusion matrix for the Gradient Boost classifier. \n",
    "cm = confusion_matrix(y_test, y_pred_gbc)\n",
    "print('Confusion matrix before hypertuning:\\n\\n', cm)"
   ]
  },
  {
   "cell_type": "code",
   "execution_count": 38,
   "id": "d02c4a32",
   "metadata": {
    "collapsed": true
   },
   "outputs": [
    {
     "name": "stdout",
     "output_type": "stream",
     "text": [
      "Decision Tree Test Accuracy: 97.15758155350123 %\n",
      "              precision    recall  f1-score   support\n",
      "\n",
      "           0       0.98      0.97      0.97      9387\n",
      "           1       0.97      0.98      0.97      9435\n",
      "\n",
      "    accuracy                           0.97     18822\n",
      "   macro avg       0.97      0.97      0.97     18822\n",
      "weighted avg       0.97      0.97      0.97     18822\n",
      "\n",
      "Confusion matrix before hypertuning:\n",
      "\n",
      " [[9080  307]\n",
      " [ 228 9207]]\n"
     ]
    }
   ],
   "source": [
    "# Decision Tree:\n",
    "# Create a Decision Tree Classifier.\n",
    "dtree = DecisionTreeClassifier(random_state=42)\n",
    "\n",
    "# Fit the model to the training data.\n",
    "dtree.fit(x_train_scaled, y_train)\n",
    "\n",
    "# Predict the Test set results.\n",
    "y_pred_dtree = dtree.predict(x_test_scaled)\n",
    "\n",
    "# Calculate and print the test accuracy score.\n",
    "print(\"Decision Tree Test Accuracy:\", (accuracy_score(y_test, y_pred_dtree)) * 100, \"%\")\n",
    "\n",
    "# Print the classification report for Decision Tree classifier.\n",
    "print(classification_report(y_test, y_pred_dtree))\n",
    "\n",
    "# Create a confusion matrix for the Decision Tree classifier. \n",
    "cm = confusion_matrix(y_test, y_pred_dtree)\n",
    "print('Confusion matrix before hypertuning:\\n\\n', cm)"
   ]
  },
  {
   "cell_type": "markdown",
   "id": "72160875",
   "metadata": {},
   "source": [
    "## Model Hyperparameter Tuning"
   ]
  },
  {
   "cell_type": "code",
   "execution_count": 62,
   "id": "182e4d94",
   "metadata": {
    "collapsed": true
   },
   "outputs": [
    {
     "name": "stdout",
     "output_type": "stream",
     "text": [
      "Best performing estimator for Decision Tree:  {'criterion': 'gini', 'max_depth': 4, 'min_samples_leaf': 4, 'min_samples_split': 5}\n",
      "Decision Tree Test Accuracy After Hypertuning: 76.62841355860164 %\n"
     ]
    }
   ],
   "source": [
    "# Perform model hyperparameter tuning on the best performing model (Decision Tree).\n",
    "# Upon performing hyperparameter tuning the accuracy of the model decreased which could be due to overfitting.\n",
    "# To fix this issue the parameters were adjusted to decrease the complexity of the decision tree model but to no avail. \n",
    "# Could be an issue with the dataset.\n",
    "# Create an instance of Decision Tree classifier.\n",
    "d_tree = DecisionTreeClassifier(random_state=42)\n",
    "\n",
    "\"\"\"\n",
    "   -The max_depth parameter represents the maximum depth of the decision tree.\n",
    "   -The min_samples_leaf parameter represents the minimum samples required at each leaf node.\n",
    "   -The min_samples_split parameter represents the minimum samples required to split a node.\n",
    "   -The criterion parameter measures the quality of the split.\n",
    "\"\"\"\n",
    "# Define a dictionary of hyperparameters to tune.\n",
    "param_grid = {\n",
    "    'max_depth': [2, 3, 4],\n",
    "    'min_samples_leaf': [4, 8, 16],\n",
    "    'min_samples_split': [5, 10],\n",
    "    'criterion': [\"gini\", \"entropy\"]\n",
    "}\n",
    "\n",
    "# Create GridSearchCV object.\n",
    "grid_search = GridSearchCV(d_tree, param_grid=param_grid, cv=3, n_jobs=-1)\n",
    "\n",
    "# Fit the GridSearchCV object to the training data.\n",
    "grid_search.fit(x_train_scaled, y_train)\n",
    "\n",
    "# Print the best estimator.\n",
    "print(\"Best performing estimator for Decision Tree: \", grid_search.best_params_)\n",
    "\n",
    "# Predict class labels for the test data using the best hyperparameters.\n",
    "y_pred_d_tree_HT = grid_search.predict(x_test_scaled)\n",
    "\n",
    "# Calculate and print the test accuracy score after hypertuning.\n",
    "test_accuracy_d_tree_HT = accuracy_score(y_test, y_pred_d_tree_HT)\n",
    "print(\"Decision Tree Test Accuracy After Hypertuning:\", test_accuracy_d_tree_HT * 100, \"%\")"
   ]
  },
  {
   "cell_type": "markdown",
   "id": "dddf2ac1",
   "metadata": {},
   "source": [
    "### Feature Importance"
   ]
  },
  {
   "cell_type": "code",
   "execution_count": 40,
   "id": "c84fc622",
   "metadata": {
    "collapsed": true
   },
   "outputs": [
    {
     "data": {
      "text/plain": [
       "age                  0.542687\n",
       "bmi                  0.223195\n",
       "avg_glucose_level    0.182598\n",
       "ever_married         0.024762\n",
       "Residence_type       0.015671\n",
       "gender               0.011086\n",
       "hypertension         0.000000\n",
       "heart_disease        0.000000\n",
       "work_type            0.000000\n",
       "smoking_status       0.000000\n",
       "dtype: float64"
      ]
     },
     "execution_count": 40,
     "metadata": {},
     "output_type": "execute_result"
    }
   ],
   "source": [
    "# Visualize feature scores.\n",
    "#Featutre importance. \n",
    "feature_scores = pd.Series(rfc.feature_importances_, index=x_train.columns).sort_values(ascending=False)\n",
    "feature_scores"
   ]
  },
  {
   "cell_type": "code",
   "execution_count": 41,
   "id": "8eac7780",
   "metadata": {
    "collapsed": true
   },
   "outputs": [
    {
     "data": {
      "image/png": "[encoded data removed]",
      "text/plain": [
       "<Figure size 640x480 with 1 Axes>"
      ]
     },
     "metadata": {},
     "output_type": "display_data"
    }
   ],
   "source": [
    "# Create a bar plot.\n",
    "sns.barplot(x=feature_scores, y=feature_scores.index)\n",
    "\n",
    "# Lable the graph.\n",
    "plt.xlabel(\"Feature Importance Score\")\n",
    "plt.ylabel(\"Features\")\n",
    "plt.title(\"Visualizing Important Features\")\n",
    "plt.show()"
   ]
  },
  {
   "cell_type": "markdown",
   "id": "6795123d",
   "metadata": {},
   "source": [
    "## Retraining Models on Important Features"
   ]
  },
  {
   "cell_type": "code",
   "execution_count": 42,
   "id": "66713a98",
   "metadata": {},
   "outputs": [],
   "source": [
    "# Select the most important features and target variables.\n",
    "x1 = dataset_new.drop([\"stroke\", \"work_type\", \"smoking_status\"],axis=1)\n",
    "y1 = dataset_new[[\"stroke\"]]"
   ]
  },
  {
   "cell_type": "code",
   "execution_count": 43,
   "id": "503781c2",
   "metadata": {},
   "outputs": [],
   "source": [
    "# Perform over sampling once again to balance the data.\n",
    "smote1 = SMOTE(random_state = 42)\n",
    "x1_smote1, y1_smote1 = smote1.fit_resample(x1, y1)"
   ]
  },
  {
   "cell_type": "code",
   "execution_count": 44,
   "id": "17ecbe02",
   "metadata": {},
   "outputs": [],
   "source": [
    "# Split the dataset into train set and test set.\n",
    "x1_train, x1_test, y1_train, y1_test = train_test_split(x1_smote1, y1_smote1, test_size = 0.33, random_state = 42)\n",
    "\n",
    "# Standardize the features by scaling.\n",
    "scaler = StandardScaler()\n",
    "x1_train_scaled = scaler.fit_transform(x1_train)\n",
    "x1_test_scaled = scaler.transform(x1_test)"
   ]
  },
  {
   "cell_type": "code",
   "execution_count": 49,
   "id": "103dfb2f",
   "metadata": {
    "collapsed": true
   },
   "outputs": [
    {
     "name": "stdout",
     "output_type": "stream",
     "text": [
      "Retrained Logistic Regression Test Accuracy: 75.40112634151525 %\n",
      "              precision    recall  f1-score   support\n",
      "\n",
      "           0       0.77      0.72      0.74      9387\n",
      "           1       0.74      0.79      0.76      9435\n",
      "\n",
      "    accuracy                           0.75     18822\n",
      "   macro avg       0.76      0.75      0.75     18822\n",
      "weighted avg       0.76      0.75      0.75     18822\n",
      "\n",
      "Confusion matrix after selected features:\n",
      "\n",
      " [[6730 2657]\n",
      " [1973 7462]]\n"
     ]
    }
   ],
   "source": [
    "# Retrained Logistic Regression:\n",
    "# Create a logistic regression classifier.\n",
    "clf1 = LogisticRegression()\n",
    "\n",
    "# Train the Logistic Regression model on the training data.\n",
    "clf1.fit(x1_train_scaled, y_train)\n",
    "\n",
    "# Predict probabilities of each class for the test data.\n",
    "y1_pred_probs = clf1.predict_proba(x1_test_scaled)\n",
    "\n",
    "# Predict class labels. \n",
    "y1_pred_clf1 = np.argmax(y1_pred_probs, axis=1)\n",
    "\n",
    "# Calculate and print the test accuracy score.\n",
    "test_accuracy = accuracy_score(y1_test, y1_pred_clf1)\n",
    "print(\"Retrained Logistic Regression Test Accuracy:\", test_accuracy*100,\"%\")\n",
    " \n",
    "# Print the classification report for logistic regression classifier.\n",
    "print(classification_report(y1_test, y1_pred_clf1))\n",
    "\n",
    "# Create a confusion matrix for the logistic regression classifier.\n",
    "cm = confusion_matrix(y1_test, y1_pred_clf1)\n",
    "print('Confusion matrix after selected features:\\n\\n', cm)"
   ]
  },
  {
   "cell_type": "code",
   "execution_count": 50,
   "id": "a1679946",
   "metadata": {
    "collapsed": true
   },
   "outputs": [
    {
     "name": "stdout",
     "output_type": "stream",
     "text": [
      "Retrained SVM Test Accuracy: 75.65083413027308 %\n",
      "              precision    recall  f1-score   support\n",
      "\n",
      "           0       0.78      0.71      0.74      9387\n",
      "           1       0.73      0.81      0.77      9435\n",
      "\n",
      "    accuracy                           0.76     18822\n",
      "   macro avg       0.76      0.76      0.76     18822\n",
      "weighted avg       0.76      0.76      0.76     18822\n",
      "\n",
      "Confusion matrix after selected features:\n",
      "\n",
      " [[6643 2744]\n",
      " [1839 7596]]\n"
     ]
    }
   ],
   "source": [
    "# Retrained Support Vector Machine (SVM):\n",
    "# Build and train the model.\n",
    "SVM1 = SVC(kernel=\"linear\")\n",
    "SVM1.fit(x1_train_scaled, y1_train)\n",
    "\n",
    "# Make predictions.\n",
    "predictions1 = SVM1.predict(x1_test_scaled)\n",
    "\n",
    "# Calculate and print the test accuracy score.\n",
    "predictions1 = SVM1.predict(x1_test_scaled)\n",
    "print(\"Retrained SVM Test Accuracy:\", accuracy_score(y1_test, predictions1)*100,\"%\")\n",
    "\n",
    "# Print the classification report for SVM classifier.\n",
    "print(classification_report(y1_test, predictions1))\n",
    "\n",
    "# Create a confusion matrix for the SVM classifier. \n",
    "cm = confusion_matrix(y1_test, predictions1)\n",
    "print('Confusion matrix after selected features:\\n\\n', cm)"
   ]
  },
  {
   "cell_type": "code",
   "execution_count": 52,
   "id": "c7607312",
   "metadata": {
    "collapsed": true
   },
   "outputs": [
    {
     "name": "stdout",
     "output_type": "stream",
     "text": [
      "Retrained Random Forest Test Accuracy: 94.65519073424716 %\n",
      "              precision    recall  f1-score   support\n",
      "\n",
      "           0       0.96      0.93      0.95      9387\n",
      "           1       0.93      0.96      0.95      9435\n",
      "\n",
      "    accuracy                           0.95     18822\n",
      "   macro avg       0.95      0.95      0.95     18822\n",
      "weighted avg       0.95      0.95      0.95     18822\n",
      "\n",
      "Confusion matrix after selected features:\n",
      "\n",
      " [[8722  665]\n",
      " [ 341 9094]]\n"
     ]
    }
   ],
   "source": [
    "# Retrained Random Forest:\n",
    "# Create a Random Forest classifier.\n",
    "rfc1 = RandomForestClassifier(random_state=42)\n",
    "\n",
    "# Fit the model to the train set. \n",
    "rfc1.fit(x1_train_scaled, y1_train)\n",
    "\n",
    "# Predict the Test set results.\n",
    "y1_pred_rfc1 = rfc1.predict(x1_test_scaled)\n",
    "\n",
    "# Calculate and print the test accuracy score.\n",
    "print(\"Retrained Random Forest Test Accuracy:\",(accuracy_score(y1_test, y1_pred_rfc1))*100,\"%\")\n",
    "\n",
    "# Print the classification report for Random Forest classifier.\n",
    "print(classification_report(y1_test, y1_pred_rfc1))\n",
    "\n",
    "# Create a confusion matrix for the Random Forest classifier.\n",
    "cm = confusion_matrix(y1_test, y1_pred_rfc1)\n",
    "print('Confusion matrix after selected features:\\n\\n', cm)"
   ]
  },
  {
   "cell_type": "code",
   "execution_count": 53,
   "id": "4c124cd7",
   "metadata": {
    "collapsed": true
   },
   "outputs": [
    {
     "name": "stdout",
     "output_type": "stream",
     "text": [
      "Retrained KNN Test Accuracy: 90.02231431303794 %\n",
      "              precision    recall  f1-score   support\n",
      "\n",
      "           0       0.97      0.83      0.89      9387\n",
      "           1       0.85      0.97      0.91      9435\n",
      "\n",
      "    accuracy                           0.90     18822\n",
      "   macro avg       0.91      0.90      0.90     18822\n",
      "weighted avg       0.91      0.90      0.90     18822\n",
      "\n",
      "Confusion matrix after selected features:\n",
      "\n",
      " [[7768 1619]\n",
      " [ 259 9176]]\n"
     ]
    }
   ],
   "source": [
    "# Retrained K Nearest Neighbour:\n",
    "# Create a KNN classifier.\n",
    "knn1 = KNeighborsClassifier(n_neighbors=5)\n",
    "\n",
    "# Fit the model to the training data.\n",
    "knn1.fit(x1_train_scaled, y1_train)\n",
    "\n",
    "# Predict the Test set results.\n",
    "y1_pred_knn1 = knn1.predict(x1_test_scaled)\n",
    "\n",
    "# Calculate and print the test accuracy score.\n",
    "print(\"Retrained KNN Test Accuracy:\", (accuracy_score(y1_test, y1_pred_knn1)) * 100, \"%\")\n",
    "\n",
    "# Print the classification report for KNN classifier.\n",
    "print(classification_report(y1_test, y1_pred_knn1))\n",
    "\n",
    "# Create a confusion matrix for the KNN classifier. \n",
    "cm = confusion_matrix(y1_test, y1_pred_knn1)\n",
    "print('Confusion matrix after selected features:\\n\\n', cm)"
   ]
  },
  {
   "cell_type": "code",
   "execution_count": 54,
   "id": "a19e38c0",
   "metadata": {
    "collapsed": true
   },
   "outputs": [
    {
     "name": "stdout",
     "output_type": "stream",
     "text": [
      "Retrained Naive Bayes Test Accuracy: 72.29837424290724 %\n",
      "              precision    recall  f1-score   support\n",
      "\n",
      "           0       0.77      0.64      0.70      9387\n",
      "           1       0.69      0.81      0.74      9435\n",
      "\n",
      "    accuracy                           0.72     18822\n",
      "   macro avg       0.73      0.72      0.72     18822\n",
      "weighted avg       0.73      0.72      0.72     18822\n",
      "\n",
      "Confusion matrix after selected features:\n",
      "\n",
      " [[5999 3388]\n",
      " [1826 7609]]\n"
     ]
    }
   ],
   "source": [
    "# Retrained Naive Bayes:\n",
    "# Create a Naive Bayes classifier.\n",
    "nbc1 = GaussianNB()\n",
    "\n",
    "# Fit the model to the training data.\n",
    "nbc1.fit(x1_train_scaled, y1_train)\n",
    "\n",
    "# Predict the Test set results.\n",
    "y1_pred_nbc1 = nbc1.predict(x1_test_scaled)\n",
    "\n",
    "# Calculate and print the test accuracy score.\n",
    "print(\"Retrained Naive Bayes Test Accuracy:\", (accuracy_score(y1_test, y1_pred_nbc1)) * 100, \"%\")\n",
    "\n",
    "# Print the classification report for Naive Bayes classifier.\n",
    "print(classification_report(y1_test, y1_pred_nbc1))\n",
    "\n",
    "# Create a confusion matrix for the Naive Bayes classifier. \n",
    "cm = confusion_matrix(y1_test, y1_pred_nbc1)\n",
    "print('Confusion matrix after selected features:\\n\\n', cm)"
   ]
  },
  {
   "cell_type": "code",
   "execution_count": 55,
   "id": "7917092e",
   "metadata": {
    "collapsed": true
   },
   "outputs": [
    {
     "name": "stdout",
     "output_type": "stream",
     "text": [
      "Retrained XGBoost Test Accuracy: 87.58899160556795 %\n",
      "              precision    recall  f1-score   support\n",
      "\n",
      "           0       0.87      0.88      0.88      9387\n",
      "           1       0.88      0.87      0.88      9435\n",
      "\n",
      "    accuracy                           0.88     18822\n",
      "   macro avg       0.88      0.88      0.88     18822\n",
      "weighted avg       0.88      0.88      0.88     18822\n",
      "\n",
      "Confusion matrix after selected features:\n",
      "\n",
      " [[8231 1156]\n",
      " [1180 8255]]\n"
     ]
    }
   ],
   "source": [
    "# Retrained XGBoost:\n",
    "# Create ana XGBoost clssifier.\n",
    "xgb1 = XGBClassifier(objective='binary:logistic', n_estimators=100, learning_rate=0.1, random_state=42)\n",
    "\n",
    "# Fit the model to the training data.\n",
    "xgb1.fit(x1_train_scaled, y1_train)\n",
    "\n",
    "# Predict the Test set results.\n",
    "y1_pred_xgb1 = xgb1.predict(x1_test_scaled)\n",
    "\n",
    "# Calculate and print the test accuracy score.\n",
    "print(\"Retrained XGBoost Test Accuracy:\", (accuracy_score(y1_test, y1_pred_xgb1)) * 100, \"%\")\n",
    "\n",
    "# Print the classification report for XGBoost classifier.\n",
    "print(classification_report(y1_test, y1_pred_xgb1))\n",
    "\n",
    "# Create a confusion matrix for the XGBoost classifier. \n",
    "cm = confusion_matrix(y1_test, y1_pred_xgb1)\n",
    "print('Confusion matrix after selected features:\\n\\n', cm)"
   ]
  },
  {
   "cell_type": "code",
   "execution_count": 56,
   "id": "ca7477bc",
   "metadata": {
    "collapsed": true
   },
   "outputs": [
    {
     "name": "stdout",
     "output_type": "stream",
     "text": [
      "Retrained AdaBoost Test Accuracy: 76.89406014238656 %\n",
      "              precision    recall  f1-score   support\n",
      "\n",
      "           0       0.81      0.70      0.75      9387\n",
      "           1       0.74      0.84      0.78      9435\n",
      "\n",
      "    accuracy                           0.77     18822\n",
      "   macro avg       0.77      0.77      0.77     18822\n",
      "weighted avg       0.77      0.77      0.77     18822\n",
      "\n",
      "Confusion matrix after selected features:\n",
      "\n",
      " [[6581 2806]\n",
      " [1543 7892]]\n"
     ]
    }
   ],
   "source": [
    "# Retrained AdaBoost:\n",
    "# Create an AdaBoost classifier.\n",
    "ada1 = AdaBoostClassifier(n_estimators=50, learning_rate=1, random_state=42)\n",
    "\n",
    "# Fit the model to the training data.\n",
    "ada1.fit(x1_train_scaled, y1_train)\n",
    "\n",
    "# Predict the Test set results.\n",
    "y1_pred_ada1 = ada1.predict(x1_test_scaled)\n",
    "\n",
    "# Calculate and print the test accuracy score.\n",
    "print(\"Retrained AdaBoost Test Accuracy:\", (accuracy_score(y1_test, y1_pred_ada1)) * 100, \"%\")\n",
    "\n",
    "# Print the classification report for AdaBoost classifier.\n",
    "print(classification_report(y1_test, y1_pred_ada1))\n",
    "\n",
    "# Create a confusion matrix for the AdaBoost classifier. \n",
    "cm = confusion_matrix(y1_test, y1_pred_ada1)\n",
    "print('Confusion matrix after selected features:\\n\\n', cm)"
   ]
  },
  {
   "cell_type": "code",
   "execution_count": 57,
   "id": "18e19faa",
   "metadata": {
    "collapsed": true
   },
   "outputs": [
    {
     "name": "stdout",
     "output_type": "stream",
     "text": [
      "Retrained Gradient Boosting Test Accuracy: 82.63202635214111 %\n",
      "              precision    recall  f1-score   support\n",
      "\n",
      "           0       0.86      0.77      0.82      9387\n",
      "           1       0.80      0.88      0.84      9435\n",
      "\n",
      "    accuracy                           0.83     18822\n",
      "   macro avg       0.83      0.83      0.83     18822\n",
      "weighted avg       0.83      0.83      0.83     18822\n",
      "\n",
      "Confusion matrix after selected features:\n",
      "\n",
      " [[7267 2120]\n",
      " [1149 8286]]\n"
     ]
    }
   ],
   "source": [
    "# Retrained Gradient Boost:\n",
    "# Create a Gradient Boost classifier.\n",
    "gbc1 = GradientBoostingClassifier(n_estimators=100, learning_rate=0.1, random_state=42)\n",
    "\n",
    "# Fit the model to the training data.\n",
    "gbc1.fit(x1_train_scaled, y1_train)\n",
    "\n",
    "# Predict the Test set results.\n",
    "y1_pred_gbc1 = gbc1.predict(x1_test_scaled)\n",
    "\n",
    "# Calculate and print the test accuracy score.\n",
    "print(\"Retrained Gradient Boosting Test Accuracy:\", (accuracy_score(y1_test, y1_pred_gbc1)) * 100, \"%\")\n",
    "\n",
    "# Print the classification report for Gradient Boost classifier.\n",
    "print(classification_report(y1_test, y1_pred_gbc1))\n",
    "\n",
    "# Create a confusion matrix for the Gradient Boost classifier. \n",
    "cm = confusion_matrix(y1_test, y1_pred_gbc1)\n",
    "print('Confusion matrix after selected features:\\n\\n', cm)"
   ]
  },
  {
   "cell_type": "code",
   "execution_count": 61,
   "id": "e6f8b1f7",
   "metadata": {
    "collapsed": true
   },
   "outputs": [
    {
     "name": "stdout",
     "output_type": "stream",
     "text": [
      "Retrained Decision Tree Test Accuracy: 97.20539793858251 %\n",
      "              precision    recall  f1-score   support\n",
      "\n",
      "           0       0.98      0.97      0.97      9387\n",
      "           1       0.97      0.98      0.97      9435\n",
      "\n",
      "    accuracy                           0.97     18822\n",
      "   macro avg       0.97      0.97      0.97     18822\n",
      "weighted avg       0.97      0.97      0.97     18822\n",
      "\n",
      "Confusion matrix after selected features:\n",
      "\n",
      " [[9087  300]\n",
      " [ 226 9209]]\n"
     ]
    }
   ],
   "source": [
    "# Retrained Decision Tree:\n",
    "# The accuracy of the model increased after dropping less important features.\n",
    "# Since the Decision tree model performed the best once again after retraining on \n",
    "# important features it will be used for model deployment.\n",
    "# Create a Decision Tree Classifier.\n",
    "dtree1 = DecisionTreeClassifier(random_state=42)\n",
    "\n",
    "# Fit the model to the training data.\n",
    "dtree1.fit(x1_train_scaled, y1_train)\n",
    "\n",
    "# Predict the Test set results.\n",
    "y1_pred_dtree1 = dtree1.predict(x1_test_scaled)\n",
    "\n",
    "# Calculate and print the test accuracy score.\n",
    "print(\"Retrained Decision Tree Test Accuracy:\", (accuracy_score(y1_test, y1_pred_dtree1)) * 100, \"%\")\n",
    "\n",
    "# Print the classification report for Decision Tree classifier.\n",
    "print(classification_report(y1_test, y1_pred_dtree1))\n",
    "\n",
    "# Create a confusion matrix for the Decision Tree classifier.\n",
    "cm = confusion_matrix(y1_test, y1_pred_dtree1)\n",
    "print('Confusion matrix after selected features:\\n\\n', cm)"
   ]
  },
  {
   "cell_type": "markdown",
   "id": "4b838267",
   "metadata": {},
   "source": [
    "# Model Deployment"
   ]
  },
  {
   "cell_type": "code",
   "execution_count": 59,
   "id": "e46c5658",
   "metadata": {},
   "outputs": [],
   "source": [
    "# The rest of the code will be shared in another .py file. \n",
    "import pickle\n",
    "filename = \"Strokesdataset_2.sav\"\n",
    "pickle.dump(dtree1, open(filename, \"wb\"))"
   ]
  },
  {
   "cell_type": "markdown",
   "id": "c69839d8",
   "metadata": {},
   "source": [
    "## Resources"
   ]
  },
  {
   "cell_type": "markdown",
   "id": "c235cc73",
   "metadata": {},
   "source": [
    "##### 1. https://www.kaggle.com/code/cthng123/stroke-prediction"
   ]
  },
  {
   "cell_type": "markdown",
   "id": "0b321af9",
   "metadata": {},
   "source": [
    "##### 2. https://www.kaggle.com/code/cthng123/stroke-prediction"
   ]
  },
  {
   "cell_type": "markdown",
   "id": "b2150bf4",
   "metadata": {},
   "source": [
    "##### 3. https://www.kaggle.com/code/gauravduttakiit/hyperparameter-tuning-in-decision-trees"
   ]
  },
  {
   "cell_type": "markdown",
   "id": "3969253f",
   "metadata": {},
   "source": [
    "##### 4. https://www.mdpi.com/1424-8220/22/13/4670"
   ]
  },
  {
   "cell_type": "code",
   "execution_count": null,
   "id": "bb158a7c",
   "metadata": {},
   "outputs": [],
   "source": []
  }
 ],
 "metadata": {
  "kernelspec": {
   "display_name": "Python 3 (ipykernel)",
   "language": "python",
   "name": "python3"
  },
  "language_info": {
   "codemirror_mode": {
    "name": "ipython",
    "version": 3
   },
   "file_extension": ".py",
   "mimetype": "text/x-python",
   "name": "python",
   "nbconvert_exporter": "python",
   "pygments_lexer": "ipython3",
   "version": "3.11.5"
  }
 },
 "nbformat": 4,
 "nbformat_minor": 5
}
